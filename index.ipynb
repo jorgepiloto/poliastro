{
 "cells": [
  {
   "cell_type": "markdown",
   "metadata": {},
   "source": [
    "# Gallery of examples\n",
    "\n",
    "![logo_text.png](docs/source/examples/logo_text.png)\n",
    "\n",
    "Here you can browse a gallery of examples using poliastro in the form of Jupyter notebooks."
   ]
  },
  {
   "cell_type": "markdown",
   "metadata": {},
   "source": [
    "## [Comparing Hohmann and bielliptic transfers](docs/source/examples/comparing%2dHohmann%2dand%2dbielliptic%2dtransfers.mystnb)\n",
    "\n",
    "[![hohmann_bielliptic](docs/source/examples/hohmann_bielliptic.png)](docs/source/examples/comparing%2dHohmann%2dand%2dbielliptic%2dtransfers.mystnb)\n",
    "\n",
    "## [Exploring the New Horizons launch](docs/source/examples/exploring%2dthe%2dNew%2dHorizons%2dlaunch.mystnb)\n",
    "\n",
    "[![new_horizons](docs/source/examples/new_horizons.png)](docs/source/examples/exploring%2dthe%2dNew%2dHorizons%2dlaunch.mystnb)\n",
    "\n",
    "## [Going to Jupiter with Python using Jupyter and poliastro](docs/source/examples/going%2dto%2dJupiter%2dwith%2dPython%2dusing%2dJupyter%2dand%2dpoliastro.mystnb)\n",
    "\n",
    "[![mars](docs/source/examples/jupiter.png)](docs/source/examples/going%2dto%2dJupiter%2dwith%2dPython%2dusing%2dJupyter%2dand%2dpoliastro.mystnb)\n",
    "\n",
    "## [Going to Mars with Python using poliastro](docs/source/examples/going%2dto%2dMars%2dwith%2dPython%2dusing%2dpoliastro.mystnb)\n",
    "\n",
    "[![mars](docs/source/examples/trans_30_260.png)](docs/source/examples/going%2dto%2dMars%2dwith%2dPython%2dusing%2dpoliastro.mystnb)\n",
    "\n",
    "## [Propagation using Cowell's formulation](docs/source/examples/propagation%2dusing%2dCowells%2dformulation.mystnb)\n",
    "\n",
    "[![cowell](docs/source/examples/cowell.png)](docs/source/examples/propagation%2dusing%2dCowells%2dformulation.mystnb)\n",
    "\n",
    "## [Revisiting Lambert's problem in Python](docs/source/examples/revisiting%2dLamberts%2dproblem%2din%2dPython.mystnb)\n",
    "\n",
    "[![cowell](docs/source/examples/lambert.png)](docs/source/examples/revisiting%2dLamberts%2dproblem%2din%2dPython.mystnb)\n",
    "\n",
    "## [Studying Hohmann transfers](docs/source/examples/studying%2dHohmann%2dtransfers.mystnb)\n",
    "\n",
    "[![hohmann](docs/source/examples/hohmann.png)](docs/source/examples/studying%2dHohmann%2dtransfers.mystnb)\n",
    "\n",
    "## [Catch that asteroid!](docs/source/examples/catch%2dthat%2dasteroid!.mystnb)\n",
    "\n",
    "[![Florence](docs/source/examples/florence.png)](docs/source/examples/catch%2dthat%2dasteroid!.mystnb)\n",
    "\n",
    "## [Analyzing NEOs](docs/source/examples/analyzing%2dNEOs.mystnb)\n",
    "\n",
    "[![NEOS](docs/source/examples/NEOS.png)](docs/source/examples/analyzing%2dNEOs.mystnb)\n",
    "\n",
    "## [Plotting in 3D](docs/source/examples/plotting%2din%2d3D.mystnb)\n",
    "\n",
    "[![3DPlot](docs/source/examples/3DPlot.png)](docs/source/examples/plotting%2din%2d3D.mystnb)\n",
    "\n",
    "## [Visualizing the SpaceX Tesla Roadster trip to Mars](docs/source/examples/visualizing%2dthe%2dSpaceX%2dTesla%2dRoadster%2dtrip%2dto%2dMars.mystnb)\n",
    "\n",
    "[![3DPlot](docs/source/examples/tesla.png)](docs/source/examples/visualizing%2dthe%2dSpaceX%2dTesla%2dRoadster%2dtrip%2dto%2dMars.mystnb)"
   ]
  },
  {
   "cell_type": "markdown",
   "metadata": {},
   "source": [
    "## Old notebooks\n",
    "\n",
    "These notebooks are based on old versions of poliastro and cannot be run with current ones. They are kept here for historical purposes.\n",
    "\n",
    "* https://github.com/poliastro/poliastro/blob/c361af5/examples/Solving%20Lambert's%20problem%20in%20Python.ipynb\n",
    "* https://github.com/poliastro/poliastro/blob/9e71402/examples/Quickly%20solving%20Kepler's%20Problem%20in%20Python%20using%20numba.ipynb"
   ]
  }
 ],
 "metadata": {
  "kernelspec": {
   "display_name": "Python 3",
   "language": "python",
   "name": "python3"
  },
  "language_info": {
   "codemirror_mode": {
    "name": "ipython",
    "version": 3
   },
   "file_extension": ".py",
   "mimetype": "text/x-python",
   "name": "python",
   "nbconvert_exporter": "python",
   "pygments_lexer": "ipython3",
   "version": "3.8.6"
  }
 },
 "nbformat": 4,
 "nbformat_minor": 2
}
