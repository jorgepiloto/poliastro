{
 "cells": [
  {
   "cell_type": "markdown",
   "metadata": {},
   "source": [
    "# Gallery of examples\n",
    "\n",
    "![logo_text.png](docs/source/examples/logo_text.png)\n",
    "\n",
    "Here you can browse a gallery of examples using poliastro in the form of Jupyter notebooks."
   ]
  },
  {
   "cell_type": "markdown",
   "metadata": {},
   "source": [
    "## [Comparing Hohmann and bielliptic transfers](docs/source/examples/Comparing%5fHohmann%5fand%5fbielliptic%5ftransfers.mystnb)\n",
    "\n",
    "[![hohmann_bielliptic](docs/source/examples/hohmann_bielliptic.png)](docs/source/examples/Comparing%5fHohmann%5fand%5fbielliptic%5ftransfers.mystnb)\n",
    "\n",
    "## [Exploring the New Horizons launch](docs/source/examples/Exploring%5fthe%5fNew%5fHorizons%5flaunch.mystnb)\n",
    "\n",
    "[![new_horizons](docs/source/examples/new_horizons.png)](docs/source/examples/Exploring%5fthe%5fNew%5fHorizons%5flaunch.mystnb)\n",
    "\n",
    "## [Going to Jupiter with Python using Jupyter and poliastro](docs/source/examples/Going%5fto%5fJupiter%5fwith%5fPython%5fusing%5fJupyter%5fand%5fpoliastro.mystnb)\n",
    "\n",
    "[![mars](docs/source/examples/jupiter.png)](docs/source/examples/Going%5fto%5fJupiter%5fwith%5fPython%5fusing%5fJupyter%5fand%5fpoliastro.mystnb)\n",
    "\n",
    "## [Going to Mars with Python using poliastro](docs/source/examples/Going%5fto%5fMars%5fwith%5fPython%5fusing%5fpoliastro.mystnb)\n",
    "\n",
    "[![mars](docs/source/examples/trans_30_260.png)](docs/source/examples/Going%5fto%5fMars%5fwith%5fPython%5fusing%5fpoliastro.mystnb)\n",
    "\n",
    "## [Propagation using Cowell's formulation](docs/source/examples/Propagation%5fusing%5fCowells%5fformulation.mystnb)\n",
    "\n",
    "[![cowell](docs/source/examples/cowell.png)](docs/source/examples/Propagation%5fusing%5fCowells%5fformulation.mystnb)\n",
    "\n",
    "## [Revisiting Lambert's problem in Python](docs/source/examples/Revisiting%5fLamberts%5fproblem%5fin%5fPython.mystnb)\n",
    "\n",
    "[![cowell](docs/source/examples/lambert.png)](docs/source/examples/Revisiting%5fLamberts%5fproblem%5fin%5fPython.mystnb)\n",
    "\n",
    "## [Studying Hohmann transfers](docs/source/examples/Studying%5fHohmann%5ftransfers.mystnb)\n",
    "\n",
    "[![hohmann](docs/source/examples/hohmann.png)](docs/source/examples/Studying%5fHohmann%5ftransfers.mystnb)\n",
    "\n",
    "## [Catch that asteroid!](docs/source/examples/Catch%5fthat%5fasteroid!.mystnb)\n",
    "\n",
    "[![Florence](docs/source/examples/Florence.png)](docs/source/examples/Catch%5fthat%5fasteroid!.mystnb)\n",
    "\n",
    "## [Analyzing NEOs](docs/source/examples/Analyzing%5fNEOs.mystnb)\n",
    "\n",
    "[![NEOS](docs/source/examples/NEOS.png)](docs/source/examples/Analyzing%5fNEOs.mystnb)\n",
    "\n",
    "## [Plotting in 3D](docs/source/examples/Plotting%5fin%5f3D.mystnb)\n",
    "\n",
    "[![3DPlot](docs/source/examples/3DPlot.png)](docs/source/examples/Plotting%5fin%5f3D.mystnb)\n",
    "\n",
    "## [Visualizing the SpaceX Tesla Roadster trip to Mars](docs/source/examples/Visualizing%5fthe%5fSpaceX%5fTesla%5fRoadster%5ftrip%5fto%5fMars.mystnb)\n",
    "\n",
    "[![3DPlot](docs/source/examples/Tesla.png)](docs/source/examples/Visualizing%5fthe%5fSpaceX%5fTesla%5fRoadster%5ftrip%5fto%5fMars.mystnb)"
   ]
  },
  {
   "cell_type": "markdown",
   "metadata": {},
   "source": [
    "## Old notebooks\n",
    "\n",
    "These notebooks are based on old versions of poliastro and cannot be run with current ones. They are kept here for historical purposes.\n",
    "\n",
    "* https://github.com/poliastro/poliastro/blob/c361af5/examples/Solving%5fLambert's%5fproblem%5fin%5fPython.ipynb\n",
    "* https://github.com/poliastro/poliastro/blob/9e71402/examples/Quickly%5fsolving%5fKepler's%5fProblem%5fin%5fPython%5fusing%5fnumba.ipynb"
   ]
  }
 ],
 "metadata": {
  "kernelspec": {
   "display_name": "Python 3",
   "language": "python",
   "name": "python3"
  },
  "language_info": {
   "codemirror_mode": {
    "name": "ipython",
    "version": 3
   },
   "file_extension": ".py",
   "mimetype": "text/x-python",
   "name": "python",
   "nbconvert_exporter": "python",
   "pygments_lexer": "ipython3",
   "version": "3.8.6"
  }
 },
 "nbformat": 4,
 "nbformat_minor": 2
}
